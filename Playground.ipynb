{
 "cells": [
  {
   "cell_type": "code",
   "execution_count": 1,
   "id": "41e4951e-f622-41ed-827e-127abad92c53",
   "metadata": {},
   "outputs": [],
   "source": [
    "from pypika import Query, Table, Field\n"
   ]
  },
  {
   "cell_type": "code",
   "execution_count": 2,
   "id": "ae8e2495-17c6-47d1-88e0-700ac34886af",
   "metadata": {},
   "outputs": [],
   "source": [
    "customers = Table('customers')\n",
    "q = Query.from_(customers).select(customers.id, customers.fname, customers.lname, customers.phone)"
   ]
  },
  {
   "cell_type": "code",
   "execution_count": 3,
   "id": "d0f9d21d-a197-46be-9c1f-ca5b11fc6776",
   "metadata": {},
   "outputs": [
    {
     "data": {
      "text/plain": [
       "'SELECT \"id\",\"fname\",\"lname\",\"phone\" FROM \"customers\"'"
      ]
     },
     "execution_count": 3,
     "metadata": {},
     "output_type": "execute_result"
    }
   ],
   "source": [
    "q.get_sql()"
   ]
  },
  {
   "cell_type": "code",
   "execution_count": 4,
   "id": "25e8ac38-7786-48d4-8218-e810218fa662",
   "metadata": {},
   "outputs": [],
   "source": [
    "customers = Table('x_view_customers').as_('customers')\n",
    "q1 = Query.from_(customers).select(customers.id, customers.phone)"
   ]
  },
  {
   "cell_type": "code",
   "execution_count": 5,
   "id": "2374592d-0aa6-4b26-9436-9717f5ec5df9",
   "metadata": {},
   "outputs": [
    {
     "data": {
      "text/plain": [
       "'SELECT \"customers\".\"id\",\"customers\".\"phone\" FROM \"x_view_customers\" \"customers\"'"
      ]
     },
     "execution_count": 5,
     "metadata": {},
     "output_type": "execute_result"
    }
   ],
   "source": [
    "q.get_sql()"
   ]
  },
  {
   "cell_type": "code",
   "execution_count": 6,
   "id": "6c2887ef-5b77-4f4f-b9d5-2b4e25df853f",
   "metadata": {},
   "outputs": [],
   "source": [
    "from pypika import Schema\n",
    "\n",
    "views = Schema('views')\n",
    "q = Query.from_(views.customers).select(customers.id, customers.phone)"
   ]
  },
  {
   "cell_type": "code",
   "execution_count": 7,
   "id": "ad4fbd33-7857-4b0f-9666-dc0eb7df5b5d",
   "metadata": {},
   "outputs": [
    {
     "data": {
      "text/plain": [
       "'SELECT \"customers\".\"id\",\"customers\".\"phone\" FROM \"views\".\"customers\"'"
      ]
     },
     "execution_count": 7,
     "metadata": {},
     "output_type": "execute_result"
    }
   ],
   "source": [
    "q.get_sql()"
   ]
  },
  {
   "cell_type": "code",
   "execution_count": 9,
   "id": "dd109e17-46a5-40be-8a93-4e540bdf6442",
   "metadata": {},
   "outputs": [],
   "source": [
    "from pypika import Database\n",
    "\n",
    "my_db = Database('my_db')\n",
    "q = Query.from_(my_db.analytics.customers).select(customers.id, customers.phone)"
   ]
  },
  {
   "cell_type": "code",
   "execution_count": 10,
   "id": "bb08fd9a-d32d-46ed-aab4-a5233d389555",
   "metadata": {},
   "outputs": [
    {
     "data": {
      "text/plain": [
       "'SELECT \"customers\".\"id\",\"customers\".\"phone\" FROM \"my_db\".\"analytics\".\"customers\"'"
      ]
     },
     "execution_count": 10,
     "metadata": {},
     "output_type": "execute_result"
    }
   ],
   "source": [
    "q.get_sql()"
   ]
  },
  {
   "cell_type": "code",
   "execution_count": 11,
   "id": "049c5808-1186-4017-912b-c3cea30f067c",
   "metadata": {},
   "outputs": [
    {
     "data": {
      "text/plain": [
       "SELECT \"id\",\"fname\",\"lname\",\"phone\" FROM \"customers\" ORDER BY \"id\" DESC"
      ]
     },
     "execution_count": 11,
     "metadata": {},
     "output_type": "execute_result"
    }
   ],
   "source": [
    "from pypika import Order\n",
    "Query.from_('customers').select('id', 'fname', 'lname', 'phone').orderby('id', order=Order.desc)"
   ]
  },
  {
   "cell_type": "code",
   "execution_count": 12,
   "id": "23ec58d1-21bd-4d7d-acd4-06dcab76c024",
   "metadata": {},
   "outputs": [
    {
     "data": {
      "text/plain": [
       "'SELECT \"customers\".\"id\",\"customers\".\"phone\" FROM \"my_db\".\"analytics\".\"customers\"'"
      ]
     },
     "execution_count": 12,
     "metadata": {},
     "output_type": "execute_result"
    }
   ],
   "source": [
    "q.get_sql()"
   ]
  },
  {
   "cell_type": "code",
   "execution_count": 14,
   "id": "e264ace5-52ce-4dea-b09e-82b47c86b9b7",
   "metadata": {},
   "outputs": [],
   "source": [
    "from pypika import CustomFunction\n",
    "\n",
    "customers = Table('customers')\n",
    "DateDiff = CustomFunction('DATE_DIFF', ['interval', 'start_date', 'end_date'])\n",
    "\n",
    "q = Query.from_(customers).select(\n",
    "    customers.id,\n",
    "    customers.fname,\n",
    "    customers.lname,\n",
    "    DateDiff('day', customers.created_date, customers.updated_date)\n",
    ")"
   ]
  },
  {
   "cell_type": "code",
   "execution_count": 15,
   "id": "1d99aee5-9ba6-4014-9831-33bbc4bb81c0",
   "metadata": {},
   "outputs": [
    {
     "data": {
      "text/plain": [
       "'SELECT \"id\",\"fname\",\"lname\",DATE_DIFF(\\'day\\',\"created_date\",\"updated_date\") FROM \"customers\"'"
      ]
     },
     "execution_count": 15,
     "metadata": {},
     "output_type": "execute_result"
    }
   ],
   "source": [
    "q.get_sql()"
   ]
  },
  {
   "cell_type": "code",
   "execution_count": 18,
   "id": "01fe8f64-4878-4207-9fef-9cf923e0f4b7",
   "metadata": {},
   "outputs": [],
   "source": [
    "from pypika import Table, AliasedQuery, Query\n",
    "\n",
    "customers = Table('customers')\n",
    "\n",
    "sub_query = (Query\n",
    "            .from_(customers)\n",
    "            .select('*'))\n",
    "\n",
    "test_query = (Query\n",
    "            .with_(sub_query, \"an_alias\")\n",
    "            .from_(AliasedQuery(\"an_alias\"))\n",
    "            .select('*'))"
   ]
  },
  {
   "cell_type": "code",
   "execution_count": 19,
   "id": "35626111-7863-4846-af6b-08b00cdcb910",
   "metadata": {},
   "outputs": [
    {
     "data": {
      "text/plain": [
       "'WITH an_alias AS (SELECT * FROM \"customers\") SELECT * FROM an_alias'"
      ]
     },
     "execution_count": 19,
     "metadata": {},
     "output_type": "execute_result"
    }
   ],
   "source": [
    "test_query.get_sql()"
   ]
  },
  {
   "cell_type": "code",
   "execution_count": null,
   "id": "8c7d0352-c5c1-4dd5-81f7-2677e57b13bb",
   "metadata": {},
   "outputs": [],
   "source": []
  }
 ],
 "metadata": {
  "kernelspec": {
   "display_name": "Python 3 (ipykernel)",
   "language": "python",
   "name": "python3"
  },
  "language_info": {
   "codemirror_mode": {
    "name": "ipython",
    "version": 3
   },
   "file_extension": ".py",
   "mimetype": "text/x-python",
   "name": "python",
   "nbconvert_exporter": "python",
   "pygments_lexer": "ipython3",
   "version": "3.12.3"
  }
 },
 "nbformat": 4,
 "nbformat_minor": 5
}
