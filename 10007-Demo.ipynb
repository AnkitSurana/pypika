{
 "cells": [
  {
   "cell_type": "markdown",
   "id": "0cf47c83-12be-4c69-9e90-858049fd2abd",
   "metadata": {},
   "source": [
    "# PyPika Insight Building Demo"
   ]
  },
  {
   "cell_type": "markdown",
   "id": "74a1bd4b-3840-4546-b48e-602d6624c514",
   "metadata": {},
   "source": [
    "## PyPika Imports"
   ]
  },
  {
   "cell_type": "code",
   "execution_count": 1,
   "id": "1f0bc34d-94d0-4688-bc65-0eafedee6fd4",
   "metadata": {},
   "outputs": [],
   "source": [
    "from pypika import (\n",
    "    Query,\n",
    "    Table,\n",
    "    Tables,\n",
    "    Field,\n",
    "    AliasedQuery,\n",
    "    CustomFunction,\n",
    "    Order,\n",
    "    Database,\n",
    "    Schema,\n",
    "    Case,\n",
    "    Criterion,\n",
    "    analytics as an,\n",
    "    functions as fn\n",
    ")\n",
    "\n",
    "from mimo_custom import custom_functions as cf\n",
    "from mimo_custom import variable_list as vl"
   ]
  },
  {
   "cell_type": "markdown",
   "id": "6a314370-b94b-4f49-aafd-dbafc7de2065",
   "metadata": {},
   "source": [
    "## Variables"
   ]
  },
  {
   "cell_type": "code",
   "execution_count": 2,
   "id": "e27879c7-b5c2-4518-8347-027343d3c37e",
   "metadata": {},
   "outputs": [],
   "source": [
    "mcc_list = [5598,5655,5940,5941,5996,7032,7941,7992,20006,20076,20077,20106]"
   ]
  },
  {
   "cell_type": "markdown",
   "id": "676cb455-2b22-4835-9cc2-a898ab474f08",
   "metadata": {},
   "source": [
    "## Initialise Tables"
   ]
  },
  {
   "cell_type": "code",
   "execution_count": 3,
   "id": "95fa98b5-d3e9-4ad0-90c9-4856672f68b2",
   "metadata": {},
   "outputs": [],
   "source": [
    "# schema = Schema(\"consumption_db\")\n",
    "\n",
    "# transactions_table = Table(\"transactions_v\", schema=schema).as_(\"base\")\n",
    "# pa_table = Table(\"parties_accounts_relations_v\",schema=schema)\n",
    "\n",
    "transactions_table = Table(\"transactions_v_incl_cc\").as_(\"base\")\n",
    "pa_table = Table(\"parties_accounts_relations_v\")"
   ]
  },
  {
   "cell_type": "markdown",
   "id": "ece6facb-dc05-4734-a836-87aa99a4219e",
   "metadata": {},
   "source": [
    "## Parties Accounts Relations"
   ]
  },
  {
   "cell_type": "code",
   "execution_count": 4,
   "id": "efe66fd3-411d-45aa-a742-693870d6c2cd",
   "metadata": {},
   "outputs": [],
   "source": [
    "pa_mapping = Query.from_(pa_table).select(\"*\").as_(\"pa_mapping\")\n",
    "\n",
    "# pa_mapping.get_sql(quote_char=None)"
   ]
  },
  {
   "cell_type": "markdown",
   "id": "5a93d94c-4e54-4687-b83c-8421890b5890",
   "metadata": {
    "tags": []
   },
   "source": [
    "## List Filters"
   ]
  },
  {
   "cell_type": "code",
   "execution_count": 9,
   "id": "946946b3-167d-47a2-a7c7-104b665351c2",
   "metadata": {},
   "outputs": [],
   "source": [
    "mcc_filter = vl.NarrativeCriterions.generate_criterion(\"\",transactions_table.mcc, \"IN\", mcc_list)"
   ]
  },
  {
   "cell_type": "markdown",
   "id": "5eecfd93-9987-4463-83d6-05fc60fa7402",
   "metadata": {},
   "source": [
    "## Join Transactions and Parties Accounts Relations"
   ]
  },
  {
   "cell_type": "code",
   "execution_count": 10,
   "id": "be42896e-39fe-4eb1-9667-f5afb1c42379",
   "metadata": {},
   "outputs": [],
   "source": [
    "rank = (\n",
    "    an.Rank()\n",
    "    .over(pa_mapping.prophet_party_id)\n",
    "    .orderby(transactions_table.transaction_booking_timestamp, order=Order.desc)\n",
    "    .orderby(transactions_table.amount, order=Order.desc)\n",
    "    .orderby(transactions_table.merchant_brand_name, order=Order.asc)\n",
    "    .orderby(transactions_table.clean_narrative, order=Order.asc)\n",
    "    .orderby(transactions_table.prophet_transaction_id, order=Order.desc)\n",
    "    .as_(\"_rank\")\n",
    ")\n",
    "\n",
    "trn_pa_join = (\n",
    "    Query.from_(transactions_table).inner_join(pa_mapping)\n",
    "    .on_field(\"prophet_account_id\").select(\n",
    "    pa_mapping.prophet_party_id.as_(\"prophet_party_id_a\"),\n",
    "    pa_mapping.brand.as_(\"brand_a\"),\n",
    "    transactions_table.transaction_booking_timestamp,\n",
    "    transactions_table.amount,\n",
    "    transactions_table.merchant_brand_name,\n",
    "    transactions_table.clean_narrative,\n",
    "    rank,\n",
    "    cf.Concat_Ws(':',transactions_table.merchant_system_category1_name, transactions_table.merchant_system_category2_name).as_(\"category_1\"), \n",
    "    transactions_table.merchant_system_category3_name.as_(\"category_2\")\n",
    "    )\n",
    "    .where(cf.UnixTimestamp(transactions_table.record_creation_timestamp,{0}) >= cf.UnixTimestamp('2023-10-01T00:00:00.000',{0}))\n",
    "    .where(cf.UnixTimestamp(transactions_table.record_creation_timestamp,{0}) < cf.UnixTimestamp('2023-11-01T00:00:00.00',{0}))\n",
    "    .where((transactions_table.pos_refund_flag != 1) | (transactions_table.pos_refund_flag.isnull()))\n",
    "    .where(-(transactions_table.amount)>=10)\n",
    "    .where(mcc_filter)\n",
    ").as_(\"sub_query\")\n",
    "\n",
    "# trn_pa_join.get_sql(quote_char=None)"
   ]
  },
  {
   "cell_type": "markdown",
   "id": "caf90e75-2b8d-4660-8880-e50d66e3cf2e",
   "metadata": {},
   "source": [
    "## Sub Query"
   ]
  },
  {
   "cell_type": "code",
   "execution_count": 11,
   "id": "c16ae47e-dcd4-41d7-803b-ce89c0885dbc",
   "metadata": {},
   "outputs": [],
   "source": [
    "sub_query = Query.from_(trn_pa_join).select(\"*\").where(trn_pa_join._rank==1)\n",
    "\n",
    "# secondary_aggregate.get_sql(quote_char=None)"
   ]
  },
  {
   "cell_type": "markdown",
   "id": "15c8d44f-e2ef-456e-9fd3-73872ff0652b",
   "metadata": {},
   "source": [
    "## Final Query"
   ]
  },
  {
   "cell_type": "code",
   "execution_count": 12,
   "id": "32d3f91d-f41f-4912-aa7b-8c806e3845cf",
   "metadata": {},
   "outputs": [],
   "source": [
    "parent_query = (Query\n",
    "            .with_(sub_query, \"sq\")\n",
    "            .from_(AliasedQuery(\"sq\"))\n",
    "            .select(\n",
    "                    sub_query.prophet_party_id_a.as_(\"prophet_party_id\"),\n",
    "                    sub_query.brand_a.as_(\"brand\"),\n",
    "                    fn.Cast(None,\"String\").as_(\"prophet_account_id\"),\n",
    "                    cf.reflect(\"java.util.UUID\", \"randomUUID\").as_(\"insight_id\"),\n",
    "                    cf.FromUnixTime(cf.UnixTimestamp(),{0}).as_(\"event_timestamp\"),\n",
    "                    fn.Cast(None,\"String\").as_(\"transaction_record_creation_timestamp\"),\n",
    "                    fn.Cast(None,\"String\").as_(\"transaction_booking_timestamp\"),\n",
    "                    fn.Cast(None,\"String\").as_(\"transaction_value_timestamp\"),\n",
    "                    cf.Named_Struct(\"flag_a\",sub_query.category_1,\"flag_b\",sub_query.category_2).as_('insight_attributes'),\n",
    "                    fn.Cast(\"0.0.1\",\"String\").as_(\"user_story_version\"),\n",
    "                    fn.Cast(\"HttpLIVYOperator\",\"String\").as_(\"created_by\"),\n",
    "                    cf.FromUnixTime(cf.UnixTimestamp(),{0}).as_(\"record_creation_timestamp\"),\n",
    "                    fn.Cast(None,\"String\").as_(\"data_source\"),\n",
    "                    fn.Cast(\"10007-Sports-Retailer-Pg\",\"String\").as_(\"user_story_id\")\n",
    "))"
   ]
  },
  {
   "cell_type": "code",
   "execution_count": 13,
   "id": "dd428b17-526f-415a-8f45-1bfaf39da6d1",
   "metadata": {},
   "outputs": [
    {
     "data": {
      "text/plain": [
       "'WITH sq AS (SELECT * FROM (SELECT pa_mapping.prophet_party_id prophet_party_id_a,pa_mapping.brand brand_a,base.transaction_booking_timestamp,base.amount,base.merchant_brand_name,base.clean_narrative,RANK() OVER(PARTITION BY pa_mapping.prophet_party_id ORDER BY base.transaction_booking_timestamp DESC,base.amount DESC,base.merchant_brand_name ASC,base.clean_narrative ASC,base.prophet_transaction_id DESC) _rank,CONCAT_WS(\\':\\',base.merchant_system_category1_name,base.merchant_system_category2_name) category_1,base.merchant_system_category3_name category_2 FROM transactions_v_incl_cc base JOIN (SELECT * FROM parties_accounts_relations_v) pa_mapping ON base.prophet_account_id=pa_mapping.prophet_account_id WHERE UNIX_TIMESTAMP(base.record_creation_timestamp, \"yyyy-MM-dd\\'T\\'HH:mm:ss.SSS\" )>=UNIX_TIMESTAMP(\\'2023-10-01T00:00:00.000\\', \"yyyy-MM-dd\\'T\\'HH:mm:ss.SSS\" ) AND UNIX_TIMESTAMP(base.record_creation_timestamp, \"yyyy-MM-dd\\'T\\'HH:mm:ss.SSS\" )<UNIX_TIMESTAMP(\\'2023-11-01T00:00:00.00\\', \"yyyy-MM-dd\\'T\\'HH:mm:ss.SSS\" ) AND (base.pos_refund_flag<>1 OR base.pos_refund_flag IS NULL) AND -base.amount>=10 AND base.mcc IN (5598,5655,5940,5941,5996,7032,7941,7992,20006,20076,20077,20106)) sub_query WHERE sub_query._rank=1) SELECT prophet_party_id_a prophet_party_id,brand_a brand,CAST(NULL AS STRING) prophet_account_id,reflect(\\'java.util.UUID\\',\\'randomUUID\\') insight_id,FROM_UNIXTIME(UNIX_TIMESTAMP(), \"yyyy-MM-dd\\'T\\'HH:mm:ss.SSS\" ) event_timestamp,CAST(NULL AS STRING) transaction_record_creation_timestamp,CAST(NULL AS STRING) transaction_booking_timestamp,CAST(NULL AS STRING) transaction_value_timestamp,NAMED_STRUCT(\\'flag_a\\',category_1,\\'flag_b\\',category_2) insight_attributes,CAST(\\'0.0.1\\' AS STRING) user_story_version,CAST(\\'HttpLIVYOperator\\' AS STRING) created_by,FROM_UNIXTIME(UNIX_TIMESTAMP(), \"yyyy-MM-dd\\'T\\'HH:mm:ss.SSS\" ) record_creation_timestamp,CAST(NULL AS STRING) data_source,CAST(\\'10007-Sports-Retailer-Pg\\' AS STRING) user_story_id FROM sq'"
      ]
     },
     "execution_count": 13,
     "metadata": {},
     "output_type": "execute_result"
    }
   ],
   "source": [
    "final_query = parent_query.get_sql(quote_char=None)\n",
    "final_query.format(\"\"\" \"yyyy-MM-dd'T'HH:mm:ss.SSS\" \"\"\")"
   ]
  },
  {
   "cell_type": "code",
   "execution_count": null,
   "id": "c7489e76-747b-4bd0-83fb-c286c1b42ecb",
   "metadata": {},
   "outputs": [],
   "source": []
  }
 ],
 "metadata": {
  "kernelspec": {
   "display_name": "Python 3 (ipykernel)",
   "language": "python",
   "name": "python3"
  },
  "language_info": {
   "codemirror_mode": {
    "name": "ipython",
    "version": 3
   },
   "file_extension": ".py",
   "mimetype": "text/x-python",
   "name": "python",
   "nbconvert_exporter": "python",
   "pygments_lexer": "ipython3",
   "version": "3.7.13"
  }
 },
 "nbformat": 4,
 "nbformat_minor": 5
}
