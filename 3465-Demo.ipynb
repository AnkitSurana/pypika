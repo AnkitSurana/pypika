{
 "cells": [
  {
   "cell_type": "markdown",
   "id": "0cf47c83-12be-4c69-9e90-858049fd2abd",
   "metadata": {},
   "source": [
    "# PyPika Insight Building Demo"
   ]
  },
  {
   "cell_type": "markdown",
   "id": "74a1bd4b-3840-4546-b48e-602d6624c514",
   "metadata": {},
   "source": [
    "## PyPika Imports"
   ]
  },
  {
   "cell_type": "code",
   "execution_count": 14,
   "id": "1f0bc34d-94d0-4688-bc65-0eafedee6fd4",
   "metadata": {},
   "outputs": [],
   "source": [
    "from pypika import (\n",
    "    Query,\n",
    "    Table,\n",
    "    Tables,\n",
    "    Field,\n",
    "    AliasedQuery,\n",
    "    Query,\n",
    "    CustomFunction,\n",
    "    Order,\n",
    "    Database,\n",
    "    Schema,\n",
    "    Case,\n",
    "    Criterion,\n",
    "    analytics as an,\n",
    "    functions as fn\n",
    ")\n",
    "\n",
    "from mimo_custom import custom_functions as cf\n",
    "from mimo_custom import variable_list as vl"
   ]
  },
  {
   "cell_type": "markdown",
   "id": "6a314370-b94b-4f49-aafd-dbafc7de2065",
   "metadata": {},
   "source": [
    "## Variables"
   ]
  },
  {
   "cell_type": "code",
   "execution_count": 15,
   "id": "e27879c7-b5c2-4518-8347-027343d3c37e",
   "metadata": {},
   "outputs": [],
   "source": [
    "merchant_list = [ 'BCB PAYMENTS LTD',\n",
    "      'BINANCE',\n",
    "      'BITCOIN',\n",
    "      'BITMAX',\n",
    "      'BITPANDA',\n",
    "      'BITSTAMP',\n",
    "      'CB PAYMENT',\n",
    "      'CLEARBANK',\n",
    "      'COIN BASE',\n",
    "      'COINBASE',\n",
    "      'COINBURP',\n",
    "      'COINCORNER',\n",
    "      'COINFLOOR',\n",
    "      'COINIFY',\n",
    "      'COINMETRO',\n",
    "      'COINPASS',\n",
    "      'CRYPCFPS',\n",
    "      'CRYPRO',\n",
    "      'CRYPTO',\n",
    "      'CRYPTOCOM',\n",
    "      'CRYPTODOTCOM',\n",
    "      'ETORO',\n",
    "      'FIAT WALLET',\n",
    "      'FORIS DAX',\n",
    "      'GEMINI EUROPE',\n",
    "      'KENSPECKLE',\n",
    "      'KRYPTKE',\n",
    "      'KUCOIN',\n",
    "      'LUNA MONEY',\n",
    "      'LUNO ',\n",
    "      'NEXO',\n",
    "      'KRACKEN',\n",
    "      'SKRILL',\n",
    "      'LUNO MONEY',\n",
    "      'MOON PAY',\n",
    "      'PAYWARD',\n",
    "      'SBORG',\n",
    "      'SOLIDI ',\n",
    "      'SPREADEX',\n",
    "      'SWISSBORG',\n",
    "      'UPHOLD EUROPE',\n",
    "      'UPHOLD ',\n",
    "      'CB',\n",
    "      'CRO']"
   ]
  },
  {
   "cell_type": "markdown",
   "id": "676cb455-2b22-4835-9cc2-a898ab474f08",
   "metadata": {},
   "source": [
    "## Initialise Tables"
   ]
  },
  {
   "cell_type": "code",
   "execution_count": 16,
   "id": "95fa98b5-d3e9-4ad0-90c9-4856672f68b2",
   "metadata": {},
   "outputs": [],
   "source": [
    "# schema = Schema(\"consumption_db\")\n",
    "\n",
    "# transactions_table = Table(\"transactions_v\", schema=schema).as_(\"base\")\n",
    "# pa_table = Table(\"parties_accounts_relations_v\",schema=schema)\n",
    "\n",
    "transactions_table = Table(\"transactions_v_incl_cc\").as_(\"base\")\n",
    "pa_table = Table(\"parties_accounts_relations_v\")"
   ]
  },
  {
   "cell_type": "markdown",
   "id": "ece6facb-dc05-4734-a836-87aa99a4219e",
   "metadata": {},
   "source": [
    "## Parties Accounts Relations"
   ]
  },
  {
   "cell_type": "code",
   "execution_count": 17,
   "id": "efe66fd3-411d-45aa-a742-693870d6c2cd",
   "metadata": {},
   "outputs": [],
   "source": [
    "pa_mapping = Query.from_(pa_table).select(\"*\").as_(\"pa_mapping\")\n",
    "\n",
    "# pa_mapping.get_sql(quote_char=None)"
   ]
  },
  {
   "cell_type": "markdown",
   "id": "beba14af-21d9-4c95-993f-8a23e6910b0e",
   "metadata": {},
   "source": [
    "## Attribute Lookup"
   ]
  },
  {
   "cell_type": "code",
   "execution_count": 18,
   "id": "6becc890-45eb-4826-b847-6cdb7b558e0a",
   "metadata": {},
   "outputs": [],
   "source": [
    "# my_db = Database('consumption_db')\n",
    "\n",
    "attr_lkp_acct = Table(\"attribute_lookup_master\")\n",
    "\n",
    "attr_lkp_acct = Query.from_(attr_lkp_acct).select(attr_lkp_acct.lookup_value).where( (attr_lkp_acct.insight_id == \"3465-CRYPTO-SCAMS-PG\") & (attr_lkp_acct.lookup_key == \"SORTCODE_ACCOUNT\"))\n",
    "\n",
    "# attr_lkp_acct.get_sql(quote_char=None)"
   ]
  },
  {
   "cell_type": "code",
   "execution_count": 19,
   "id": "aef88785-b33a-4840-99af-35f5dffc0601",
   "metadata": {},
   "outputs": [],
   "source": [
    "# my_db = Database('consumption_db')\n",
    "\n",
    "attr_lkp = Table(\"attribute_lookup_master\")\n",
    "\n",
    "attr_lkp = Query.from_(attr_lkp).select(attr_lkp.lookup_value).where((attr_lkp.insight_id == \"3465-CRYPTO-SCAMS-PG\") & (attr_lkp.lookup_key == \"SORTCODE\"))\n",
    "\n",
    "# attr_lkp.get_sql(quote_char=None)"
   ]
  },
  {
   "cell_type": "markdown",
   "id": "260d44bb-7bfe-4bf7-8578-a545cb13f4e5",
   "metadata": {
    "tags": []
   },
   "source": [
    "## List Filters"
   ]
  },
  {
   "cell_type": "code",
   "execution_count": 20,
   "id": "e2e7e68f-5ad1-4a36-86eb-1b128c801fa2",
   "metadata": {},
   "outputs": [],
   "source": [
    "# Where conditions for Merchant List\n",
    "merchant_filter = vl.NarrativeCriterions.generate_criterion(\"Upper\",transactions_table.clean_narrative, \"any\", merchant_list)\n",
    "\n",
    "# Where conditions for Attribute LookUp Table \n",
    "alt_filter_1 = fn.Upper(fn.Concat(cf.Lpad((fn.Trim(transactions_table.fnd_xfer_opp_sort_cd)),6,0),cf.Lpad((fn.Trim(transactions_table.fnd_xfer_opp_acct_num)),8,0))).isin(attr_lkp_acct)\n",
    "alt_filter_2 = fn.Upper(cf.Lpad((fn.Trim(transactions_table.fnd_xfer_opp_sort_cd)),6,0)).isin(attr_lkp)\n"
   ]
  },
  {
   "cell_type": "markdown",
   "id": "5eecfd93-9987-4463-83d6-05fc60fa7402",
   "metadata": {},
   "source": [
    "## Join Transactions and Parties Accounts Relations"
   ]
  },
  {
   "cell_type": "code",
   "execution_count": 21,
   "id": "be42896e-39fe-4eb1-9667-f5afb1c42379",
   "metadata": {},
   "outputs": [],
   "source": [
    "rank = (\n",
    "    an.Rank()\n",
    "    .over(pa_mapping.prophet_party_id)\n",
    "    .orderby(transactions_table.transaction_booking_timestamp, order=Order.desc)\n",
    "    .orderby(transactions_table.amount, order=Order.desc)\n",
    "    .orderby(transactions_table.merchant_brand_name, order=Order.asc)\n",
    "    .orderby(transactions_table.clean_narrative, order=Order.asc)\n",
    "    .orderby(transactions_table.prophet_transaction_id, order=Order.desc)\n",
    "    .as_(\"_rank\")\n",
    ")\n",
    "\n",
    "trn_pa_join = (\n",
    "    Query.from_(transactions_table).inner_join(pa_mapping)\n",
    "    .on_field(\"prophet_account_id\").select(\n",
    "    pa_mapping.prophet_party_id.as_(\"prophet_party_id_a\"),\n",
    "    pa_mapping.brand.as_(\"brand_a\"),\n",
    "    transactions_table.transaction_booking_timestamp,\n",
    "    transactions_table.amount,\n",
    "    transactions_table.merchant_brand_name,\n",
    "    transactions_table.clean_narrative,\n",
    "    rank)\n",
    "    .where(cf.ToDate(transactions_table.transaction_booking_timestamp)[cf.DateSub(cf.ToDate('2021-05-22T12:00:00.000'),7):cf.ToDate('2021-05-29T12:00:00.000')])\n",
    "    .where(cf.UnixTimestamp(transactions_table.record_creation_timestamp,{0}) >= cf.UnixTimestamp('2021-05-22T12:00:00.000',{0}))\n",
    "    .where(cf.UnixTimestamp(transactions_table.record_creation_timestamp,{0}) < cf.UnixTimestamp('2021-05-29T12:00:00.000',{0}))\n",
    "    .where((transactions_table.pos_refund_flag != 1) | (transactions_table.pos_refund_flag.isnull()))\n",
    "    .where(-(transactions_table.amount)>0)\n",
    "    .where(merchant_filter | alt_filter_1 | alt_filter_2)\n",
    ").as_(\"sub_query\")\n",
    "\n",
    "# trn_pa_join.get_sql(quote_char=None)"
   ]
  },
  {
   "cell_type": "markdown",
   "id": "caf90e75-2b8d-4660-8880-e50d66e3cf2e",
   "metadata": {},
   "source": [
    "## Sub Query"
   ]
  },
  {
   "cell_type": "code",
   "execution_count": 22,
   "id": "c16ae47e-dcd4-41d7-803b-ce89c0885dbc",
   "metadata": {},
   "outputs": [],
   "source": [
    "sub_query = Query.from_(trn_pa_join).select(\"*\").where(trn_pa_join._rank==1)\n",
    "\n",
    "# secondary_aggregate.get_sql(quote_char=None)"
   ]
  },
  {
   "cell_type": "markdown",
   "id": "15c8d44f-e2ef-456e-9fd3-73872ff0652b",
   "metadata": {},
   "source": [
    "## Final Query"
   ]
  },
  {
   "cell_type": "code",
   "execution_count": 23,
   "id": "32d3f91d-f41f-4912-aa7b-8c806e3845cf",
   "metadata": {},
   "outputs": [],
   "source": [
    "parent_query = (Query\n",
    "            .with_(sub_query, \"sq\")\n",
    "            .from_(AliasedQuery(\"sq\"))\n",
    "            .select(\n",
    "                    sub_query.prophet_party_id_a.as_(\"prophet_party_id\"),\n",
    "                    sub_query.brand_a.as_(\"brand\"),\n",
    "                    fn.Cast(None,\"String\").as_(\"prophet_account_id\"),\n",
    "                    cf.reflect(\"java.util.UUID\", \"randomUUID\").as_(\"insight_id\"),\n",
    "                    cf.FromUnixTime(cf.UnixTimestamp(),{0}).as_(\"event_timestamp\"),\n",
    "                    fn.Cast(None,\"String\").as_(\"transaction_record_creation_timestamp\"),\n",
    "                    fn.Cast(None,\"String\").as_(\"transaction_booking_timestamp\"),\n",
    "                    fn.Cast(None,\"String\").as_(\"transaction_value_timestamp\"),\n",
    "                    Case()\n",
    "                       .when(sub_query.merchant_brand_name.isnull(), sub_query.clean_narrative)\n",
    "                       .else_(sub_query.merchant_brand_name).as_('insight_attributes'),\n",
    "                    fn.Cast(\"0.0.1\",\"String\").as_(\"user_story_version\"),\n",
    "                    fn.Cast(\"HttpLIVYOperator\",\"String\").as_(\"created_by\"),\n",
    "                    cf.FromUnixTime(cf.UnixTimestamp(),{0}).as_(\"record_creation_timestamp\"),\n",
    "                    fn.Cast(None,\"String\").as_(\"data_source\"),\n",
    "                    fn.Cast(\"3465-Crypto-Scams-Pg\",\"String\").as_(\"user_story_id\")\n",
    "))"
   ]
  },
  {
   "cell_type": "code",
   "execution_count": 24,
   "id": "dd428b17-526f-415a-8f45-1bfaf39da6d1",
   "metadata": {},
   "outputs": [
    {
     "data": {
      "text/plain": [
       "'WITH sq AS (SELECT * FROM (SELECT pa_mapping.prophet_party_id prophet_party_id_a,pa_mapping.brand brand_a,base.transaction_booking_timestamp,base.amount,base.merchant_brand_name,base.clean_narrative,RANK() OVER(PARTITION BY pa_mapping.prophet_party_id ORDER BY base.transaction_booking_timestamp DESC,base.amount DESC,base.merchant_brand_name ASC,base.clean_narrative ASC,base.prophet_transaction_id DESC) _rank FROM transactions_v_incl_cc base JOIN (SELECT * FROM parties_accounts_relations_v) pa_mapping ON base.prophet_account_id=pa_mapping.prophet_account_id WHERE TO_DATE(base.transaction_booking_timestamp) BETWEEN DATE_SUB(TO_DATE(\\'2021-05-22T12:00:00.000\\'),7) AND TO_DATE(\\'2021-05-29T12:00:00.000\\') AND UNIX_TIMESTAMP(base.record_creation_timestamp, \"yyyy-MM-dd\\'T\\'HH:mm:ss.SSS\" )>=UNIX_TIMESTAMP(\\'2021-05-22T12:00:00.000\\', \"yyyy-MM-dd\\'T\\'HH:mm:ss.SSS\" ) AND UNIX_TIMESTAMP(base.record_creation_timestamp, \"yyyy-MM-dd\\'T\\'HH:mm:ss.SSS\" )<UNIX_TIMESTAMP(\\'2021-05-29T12:00:00.000\\', \"yyyy-MM-dd\\'T\\'HH:mm:ss.SSS\" ) AND (base.pos_refund_flag<>1 OR base.pos_refund_flag IS NULL) AND -base.amount>0 AND (UPPER(base.clean_narrative) LIKE \\'BCB PAYMENTS LTD\\' OR UPPER(base.clean_narrative) LIKE \\'BINANCE\\' OR UPPER(base.clean_narrative) LIKE \\'BITCOIN\\' OR UPPER(base.clean_narrative) LIKE \\'BITMAX\\' OR UPPER(base.clean_narrative) LIKE \\'BITPANDA\\' OR UPPER(base.clean_narrative) LIKE \\'BITSTAMP\\' OR UPPER(base.clean_narrative) LIKE \\'CB PAYMENT\\' OR UPPER(base.clean_narrative) LIKE \\'CLEARBANK\\' OR UPPER(base.clean_narrative) LIKE \\'COIN BASE\\' OR UPPER(base.clean_narrative) LIKE \\'COINBASE\\' OR UPPER(base.clean_narrative) LIKE \\'COINBURP\\' OR UPPER(base.clean_narrative) LIKE \\'COINCORNER\\' OR UPPER(base.clean_narrative) LIKE \\'COINFLOOR\\' OR UPPER(base.clean_narrative) LIKE \\'COINIFY\\' OR UPPER(base.clean_narrative) LIKE \\'COINMETRO\\' OR UPPER(base.clean_narrative) LIKE \\'COINPASS\\' OR UPPER(base.clean_narrative) LIKE \\'CRYPCFPS\\' OR UPPER(base.clean_narrative) LIKE \\'CRYPRO\\' OR UPPER(base.clean_narrative) LIKE \\'CRYPTO\\' OR UPPER(base.clean_narrative) LIKE \\'CRYPTOCOM\\' OR UPPER(base.clean_narrative) LIKE \\'CRYPTODOTCOM\\' OR UPPER(base.clean_narrative) LIKE \\'ETORO\\' OR UPPER(base.clean_narrative) LIKE \\'FIAT WALLET\\' OR UPPER(base.clean_narrative) LIKE \\'FORIS DAX\\' OR UPPER(base.clean_narrative) LIKE \\'GEMINI EUROPE\\' OR UPPER(base.clean_narrative) LIKE \\'KENSPECKLE\\' OR UPPER(base.clean_narrative) LIKE \\'KRYPTKE\\' OR UPPER(base.clean_narrative) LIKE \\'KUCOIN\\' OR UPPER(base.clean_narrative) LIKE \\'LUNA MONEY\\' OR UPPER(base.clean_narrative) LIKE \\'LUNO \\' OR UPPER(base.clean_narrative) LIKE \\'NEXO\\' OR UPPER(base.clean_narrative) LIKE \\'KRACKEN\\' OR UPPER(base.clean_narrative) LIKE \\'SKRILL\\' OR UPPER(base.clean_narrative) LIKE \\'LUNO MONEY\\' OR UPPER(base.clean_narrative) LIKE \\'MOON PAY\\' OR UPPER(base.clean_narrative) LIKE \\'PAYWARD\\' OR UPPER(base.clean_narrative) LIKE \\'SBORG\\' OR UPPER(base.clean_narrative) LIKE \\'SOLIDI \\' OR UPPER(base.clean_narrative) LIKE \\'SPREADEX\\' OR UPPER(base.clean_narrative) LIKE \\'SWISSBORG\\' OR UPPER(base.clean_narrative) LIKE \\'UPHOLD EUROPE\\' OR UPPER(base.clean_narrative) LIKE \\'UPHOLD \\' OR UPPER(base.clean_narrative) LIKE \\'CB\\' OR UPPER(base.clean_narrative) LIKE \\'CRO\\' OR UPPER(CONCAT(LPAD(TRIM(base.fnd_xfer_opp_sort_cd),6,0),LPAD(TRIM(base.fnd_xfer_opp_acct_num),8,0))) IN (SELECT lookup_value FROM attribute_lookup_master WHERE insight_id=\\'3465-CRYPTO-SCAMS-PG\\' AND lookup_key=\\'SORTCODE_ACCOUNT\\') OR UPPER(LPAD(TRIM(base.fnd_xfer_opp_sort_cd),6,0)) IN (SELECT lookup_value FROM attribute_lookup_master WHERE insight_id=\\'3465-CRYPTO-SCAMS-PG\\' AND lookup_key=\\'SORTCODE\\'))) sub_query WHERE sub_query._rank=1) SELECT prophet_party_id_a prophet_party_id,brand_a brand,CAST(NULL AS STRING) prophet_account_id,reflect(\\'java.util.UUID\\',\\'randomUUID\\') insight_id,FROM_UNIXTIME(UNIX_TIMESTAMP(), \"yyyy-MM-dd\\'T\\'HH:mm:ss.SSS\" ) event_timestamp,CAST(NULL AS STRING) transaction_record_creation_timestamp,CAST(NULL AS STRING) transaction_booking_timestamp,CAST(NULL AS STRING) transaction_value_timestamp,CASE WHEN merchant_brand_name IS NULL THEN clean_narrative ELSE merchant_brand_name END insight_attributes,CAST(\\'0.0.1\\' AS STRING) user_story_version,CAST(\\'HttpLIVYOperator\\' AS STRING) created_by,FROM_UNIXTIME(UNIX_TIMESTAMP(), \"yyyy-MM-dd\\'T\\'HH:mm:ss.SSS\" ) record_creation_timestamp,CAST(NULL AS STRING) data_source,CAST(\\'3465-Crypto-Scams-Pg\\' AS STRING) user_story_id FROM sq'"
      ]
     },
     "execution_count": 28,
     "metadata": {},
     "output_type": "execute_result"
    }
   ],
   "source": [
    "final_query = parent_query.get_sql(quote_char=None)\n",
    "final_query.format(\"\"\" \"yyyy-MM-dd'T'HH:mm:ss.SSS\" \"\"\")"
   ]
  },
  {
   "cell_type": "code",
   "execution_count": null,
   "id": "c8257d88-4672-4950-a1e5-90849dca7bd9",
   "metadata": {},
   "outputs": [],
   "source": []
  }
 ],
 "metadata": {
  "kernelspec": {
   "display_name": "Python 3 (ipykernel)",
   "language": "python",
   "name": "python3"
  },
  "language_info": {
   "codemirror_mode": {
    "name": "ipython",
    "version": 3
   },
   "file_extension": ".py",
   "mimetype": "text/x-python",
   "name": "python",
   "nbconvert_exporter": "python",
   "pygments_lexer": "ipython3",
   "version": "3.7.13"
  }
 },
 "nbformat": 4,
 "nbformat_minor": 5
}
